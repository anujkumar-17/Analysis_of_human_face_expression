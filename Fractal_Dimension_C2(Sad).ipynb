{
  "nbformat": 4,
  "nbformat_minor": 0,
  "metadata": {
    "colab": {
      "provenance": [],
      "authorship_tag": "ABX9TyPZ4wnj06d5dkP//poMfDr/",
      "include_colab_link": true
    },
    "kernelspec": {
      "name": "python3",
      "display_name": "Python 3"
    },
    "language_info": {
      "name": "python"
    }
  },
  "cells": [
    {
      "cell_type": "markdown",
      "metadata": {
        "id": "view-in-github",
        "colab_type": "text"
      },
      "source": [
        "<a href=\"https://colab.research.google.com/github/anujkumar-17/anuj_projects/blob/main/Fractal_Dimension_Project_Work_(Sad_Emotion).ipynb\" target=\"_parent\"><img src=\"https://colab.research.google.com/assets/colab-badge.svg\" alt=\"Open In Colab\"/></a>"
      ]
    },
    {
      "cell_type": "code",
      "execution_count": null,
      "metadata": {
        "id": "hiv37PM7VrWD"
      },
      "outputs": [],
      "source": []
    },
    {
      "cell_type": "code",
      "execution_count": 7,
      "metadata": {
        "id": "CnQVWToObi6t"
      },
      "outputs": [],
      "source": [
        "import numpy as np\n",
        "###YAHA SE padhna shuru karna hai"
      ]
    },
    {
      "cell_type": "code",
      "execution_count": null,
      "metadata": {
        "id": "f_qvVpQta3Rj"
      },
      "outputs": [],
      "source": [
        "# import glob\n",
        "# import cv2\n",
        "# path=r\"C:\\Users\\ashis\\Downloads\\data\\*.jpg\"\n",
        "\n",
        "# images=[cv2.imread(file) for file in glob.glob(path)]\n",
        "# print(images)\n",
        "import glob\n",
        "types = ('*.jpg') # the tuple of file types\n",
        "files_grabbed = []\n",
        "for files in types:\n",
        " files_grabbed.extend(glob.glob(files))\n",
        "print(files_grabbed)\n",
        "print(type(files_grabbed))\n",
        "files_grabbed.pop()\n",
        "files_grabbed.pop()\n",
        "print(files_grabbed)\n",
        "len(files_grabbed)"
      ]
    },
    {
      "cell_type": "code",
      "execution_count": null,
      "metadata": {
        "id": "s-QAtPRAXbm4"
      },
      "outputs": [],
      "source": [
        "import matplotlib.pyplot as plt\n",
        "import cv2\n",
        "\n",
        "img1=[]\n",
        "for i in files_grabbed :\n",
        " img = cv2.imread(i, 0)\n",
        " img1.append(img)\n",
        "\n",
        "# shape prints the tuple (height,weight,channels)\n",
        "print(\"image shape = \", img1[0].shape)\n",
        "\n",
        "# img will be a numpy array of the above shape\n",
        "print(\"image array = \", img1)\n",
        "\n",
        "print(\"pixel at index (5,5): \", img1[0][5][5])\n",
        "type(img1[0])\n"
      ]
    },
    {
      "cell_type": "code",
      "execution_count": null,
      "metadata": {
        "id": "STvXiK9ya3OP"
      },
      "outputs": [],
      "source": []
    },
    {
      "cell_type": "code",
      "execution_count": 10,
      "metadata": {
        "id": "AIRP0475RjeG"
      },
      "outputs": [],
      "source": [
        "from matplotlib import pyplot as plt\n",
        "import numpy as np\n",
        "\n",
        "# Set the figure size\n",
        "plt.rcParams[\"figure.figsize\"] = [7.00, 3.50]\n",
        "plt.rcParams[\"figure.autolayout\"] = True\n",
        "\n",
        "# Random data points\n",
        "data = np.random.rand(5, 5)\n",
        "\n",
        "# Plot the data using imshow with gray colormap\n",
        "for i in range(len(img1)):\n",
        " plt.imshow(img1[i], cmap='gray')\n",
        "\n",
        "# Display the plot\n",
        " plt.show()"
      ]
    },
    {
      "cell_type": "code",
      "execution_count": null,
      "metadata": {
        "id": "cFDvDkSIVeb9"
      },
      "outputs": [],
      "source": [
        "li=[]\n",
        "for k in range(len(img1)):\n",
        "  li1=[]\n",
        "  for i in range(1,len(img1[0])+1):\n",
        "    for j in range(1,len(img1[0][0])+1):\n",
        "      li1.append([i,j])\n",
        "  li.append(li1)\n",
        "print(li)"
      ]
    },
    {
      "cell_type": "code",
      "execution_count": null,
      "metadata": {
        "id": "iLlDa6_y4bBk"
      },
      "outputs": [],
      "source": [
        "from math import sqrt\n",
        "nsr=[]\n",
        "for k in range(len(img1)):\n",
        "  lii1=[]\n",
        "  l=int((len(img1[0])-1)*sqrt(2))\n",
        "\n",
        "  for i in range(1,l+1):\n",
        "    lii1.append(i)\n",
        "  nsr.append(lii1)\n",
        "\n",
        "print(nsr)\n"
      ]
    },
    {
      "cell_type": "code",
      "execution_count": null,
      "metadata": {
        "id": "kDM_mcbnw30X"
      },
      "outputs": [],
      "source": [
        "npn=[]\n",
        "nmsid=[]\n",
        "for k in range(len(img1)):\n",
        "  npn1=[]\n",
        "  nmsid1=[]\n",
        "  for i in range(len(nsr[0]) + 1):\n",
        "    npn1.append(0)\n",
        "    nmsid1.append(0)\n",
        "  npn.append(npn1)\n",
        "  nmsid.append(nmsid1)\n",
        "print(len(npn[0]))"
      ]
    },
    {
      "cell_type": "code",
      "execution_count": null,
      "metadata": {
        "id": "0Odzpp6q5Dgo"
      },
      "outputs": [],
      "source": [
        "# for h in lii:\n",
        "#   count=0\n",
        "#   if h==0 or h==1:\n",
        "#     continue\n",
        "#   # print(h)\n",
        "\n",
        "  # Tot_int_diff=0\n",
        "for k in range(len(img1)):\n",
        "  for i in li[k]:\n",
        "    for j in li[k]:\n",
        "      a1=i[0]\n",
        "      a2=i[1]\n",
        "      b1=j[0]\n",
        "      b2=j[1]\n",
        "      if a1>b1:\n",
        "        continue\n",
        "      if a1==b1:\n",
        "        if a2>=b2:\n",
        "          continue\n",
        "\n",
        "      a=int(((a1-b1)**2+(a2-b2)**2)**0.5)\n",
        "      # if a==2:\n",
        "      #  print(f\"{a1} - {a2} - {b1} - {b2}-{((a1-b1)**2+(a2-b2)**2)**0.5}\")\n",
        "      npn[k][a] +=1\n",
        "      if(img1[k][a1-1][a2-1]>img1[k][b1-1][b2-1]):\n",
        "        nmsid[k][a] +=(img1[k][a1-1][a2-1]-img1[k][b1-1][b2-1])\n",
        "      else:\n",
        "        nmsid[k][a] +=(img1[k][b1-1][b2-1]-img1[k][a1-1][a2-1])\n",
        "\n",
        "  #     if a == h and a!=0:\n",
        "  #       if img[a1-1][a2-1]<img[b1-1][b2-1]:\n",
        "  #         Tot_int_diff+=abs(img[a1-1][a2-1]-img[b1-1][b2-1])\n",
        "  #       else:\n",
        "  #         Tot_int_diff+=abs(img[a1-1][a2-1]-img[b1-1][b2-1])\n",
        "  #       # print(a1,end=\" \")\n",
        "  #       # print(a2,end=\"  \")\n",
        "  #       # print(b1,end=\" \")\n",
        "  #       # print(b2)\n",
        "\n",
        "  #       count+=1\n",
        "  #       # ll.append([[i[0],j[0]],[i[1],j[1]]])\n",
        "\n",
        "  # print(h,end=\" \")\n",
        "  # # print(Tot_int_diff/count)\n",
        "  # print(Tot_int_diff/count)\n",
        "  # nmsid.append((Tot_int_diff/count))\n",
        "  # nsr.append(h)\n",
        "print(npn)\n",
        "for i in range(len(img1)):\n",
        " npn[i].remove(0)\n",
        " nmsid[i].remove(0)\n",
        "# npn.remove(0)\n",
        "print('anuj')\n",
        "for k in range(len(img1)):\n",
        "  for i in range(0,len(nmsid[k])):\n",
        "    nmsid[k][i]=nmsid[k][i]/npn[k][i]\n",
        "\n",
        "print(npn)\n",
        "print(nmsid)\n"
      ]
    },
    {
      "cell_type": "code",
      "execution_count": 15,
      "metadata": {
        "id": "kiWvtpzbVLrX"
      },
      "outputs": [],
      "source": [
        "# for i in range(3):\n",
        "#   for j in range(3):\n",
        "#     print(img[i][j],end=\" \")\n",
        "#   print(\"\")\n",
        "# print(abs(img[1][1]-img[0][0]))"
      ]
    },
    {
      "cell_type": "code",
      "execution_count": null,
      "metadata": {
        "id": "IDPVdSUnCga4"
      },
      "outputs": [],
      "source": [
        "print(npn[0])\n",
        "print(len(nmsid))"
      ]
    },
    {
      "cell_type": "code",
      "execution_count": null,
      "metadata": {
        "id": "kn0oh32w6fWL"
      },
      "outputs": [],
      "source": [
        "lii=np.log(nsr)\n",
        "nmsid=np.log(nmsid)\n",
        "print(lii,nmsid)"
      ]
    },
    {
      "cell_type": "code",
      "execution_count": null,
      "metadata": {
        "id": "O3jLBnGqWMgB"
      },
      "outputs": [],
      "source": [
        "#print(len(lii[0]))"
      ]
    },
    {
      "cell_type": "code",
      "execution_count": null,
      "metadata": {
        "id": "KrdVVpwRp_A3"
      },
      "outputs": [],
      "source": [
        "print(len(nsr[0]))\n",
        "print(len(nmsid[0]))\n",
        "print(type(lii[0][0]))\n",
        "print(type(nmsid[0]))\n",
        "import math\n"
      ]
    },
    {
      "cell_type": "code",
      "execution_count": null,
      "metadata": {
        "id": "cU_98vssAQC_"
      },
      "outputs": [],
      "source": [
        "\n",
        "# type(nmsid)\n",
        "# print(type(nmsid[0]))\n",
        "# # print(len(x))\n",
        "# print(len(y))\n",
        "# x=np.append(x,4)\n",
        "# print(len(x))\n",
        "# # y.reshape(89)\n",
        "# print(x.shape)\n",
        "# type(y)\n",
        "print(len(img))\n",
        "import matplotlib.pyplot as plt\n",
        "\n",
        "def get_cmap(n, name='hsv'):\n",
        "    '''Returns a function that maps each index in 0, 1, ..., n-1 to a distinct\n",
        "    RGB color; the keyword argument name must be a standard mpl colormap name.'''\n",
        "    return plt.cm.get_cmap(name, n)"
      ]
    },
    {
      "cell_type": "code",
      "execution_count": null,
      "metadata": {
        "id": "pvpLMO2rXM3W"
      },
      "outputs": [],
      "source": [
        "import numpy as np\n",
        "import matplotlib.pyplot as plt\n",
        "\n",
        "# data to be plotted\n",
        "# x = np.array(lii)\n",
        "# y = np.array(nmsid)\n",
        "\n",
        "# plotting\n",
        "\n",
        "# x=np.arange(115)\n",
        "# y=np.arange(115)\n",
        "\n",
        "cmap = get_cmap(len(files_grabbed))\n",
        "for j in range(len(files_grabbed)):\n",
        "  print(f'-------{j+1} begins-------')\n",
        "  plt.ylim([0,5])\n",
        "  plt.xlabel(\"Lg(NSR)\")\n",
        "  plt.ylabel(\"Lg(NMSID)\")\n",
        "  plt.gcf().set_size_inches((5, 5))\n",
        "  # x = lii[j]\n",
        "  # y = nmsid[j]\n",
        "  mini = nsr[j][0]\n",
        "\n",
        "  miin=nmsid[j][0]\n",
        "  maax=nmsid[j][0]\n",
        "  idx=0\n",
        "  for i in range(len(nmsid[j])-1):\n",
        "    if((nmsid[j][i+1]-nmsid[j][i])/(nsr[j][i+1]-nsr[j][i])<-0.02):\n",
        "      idx=i\n",
        "      maax=nmsid[j][i]\n",
        "      print(i)\n",
        "      break;\n",
        "  # for k in range(idx,len(nmsid[j])):\n",
        "  #   nmsid[j][k]=-1\n",
        "  #   # if(maax<nmsid[j][i]):\n",
        "  #   #   maax=nmsid[j][i]\n",
        "\n",
        "  maxi = nsr[j][idx]\n",
        "  x = lii[j]\n",
        "  y = nmsid[j]\n",
        "  print(miin,maax)\n",
        "  print(mini,maxi)\n",
        "  print(f'the slope is {(nmsid[j][8]-nmsid[j][2])/(lii[j][8]-lii[j][2])}')\n",
        "  print(f'--------{j+1} ends-------')\n",
        "  print(\" \")\n",
        "  plt.scatter(x,y,color = cmap(j),s=2)\n",
        "  # plt.show()"
      ]
    },
    {
      "cell_type": "code",
      "execution_count": null,
      "metadata": {
        "id": "QErWau07hBHg"
      },
      "outputs": [],
      "source": [
        "print((nmsid[8]-nmsid[2])/(lii[8]-lii[2]))"
      ]
    },
    {
      "cell_type": "code",
      "execution_count": null,
      "metadata": {
        "id": "2BOzZCytMXUN"
      },
      "outputs": [],
      "source": [
        "import numpy as np\n",
        "\n",
        "\n",
        "def fractal_dimension(image: np.ndarray) -> np.float64:\n",
        "    \"\"\" Calculates the fractal dimension of an image represented by a 2D numpy array.\n",
        "    The algorithm is a modified box-counting algorithm as described by Wen-Li Lee and Kai-Sheng Hsieh.\n",
        "    Args:\n",
        "        image: A 2D array containing a grayscale image. Format should be equivalent to cv2.imread(flags=0).\n",
        "               The size of the image has no constraints, but it needs to be square (m×m array).\n",
        "    Returns:\n",
        "        D: The fractal dimension Df, as estimated by the modified box-counting algorithm.\n",
        "    \"\"\"\n",
        "    M = image.shape[0]  # image shape\n",
        "    G_min = image.min()  # lowest gray level (0=white)\n",
        "    G_max = image.max()  # highest gray level (255=black)\n",
        "    G = G_max - G_min + 1  # number of gray levels, typically 256\n",
        "    prev = -1  # used to check for plateaus\n",
        "    r_Nr = []\n",
        "\n",
        "    for L in range(2, (M // 2) + 1):\n",
        "        h = max(1, G // (M // L))  # minimum box height is 1\n",
        "        N_r = 0\n",
        "        r = L / M\n",
        "        for i in range(0, M, L):\n",
        "            boxes = [[]] * ((G + h - 1) // h)  # create enough boxes with height h to fill the fractal space\n",
        "            for row in image[i:i + L]:  # boxes that exceed bounds are shrunk to fit\n",
        "                for pixel in row[i:i + L]:\n",
        "                    height = (pixel - G_min) // h  # lowest box is at G_min and each is h gray levels tall\n",
        "                    boxes[height].append(pixel)  # assign the pixel intensity to the correct box\n",
        "            stddev = np.sqrt(np.var(boxes, axis=1))  # calculate the standard deviation of each box\n",
        "            stddev = stddev[~np.isnan(stddev)]  # remove boxes with NaN standard deviations (empty)\n",
        "            nBox_r = 2 * (stddev // h) + 1\n",
        "            N_r += sum(nBox_r)\n",
        "        if N_r != prev:  # check for plateauing\n",
        "            r_Nr.append([r, N_r])\n",
        "            prev = N_r\n",
        "    x = np.array([np.log(1 / point[0]) for point in r_Nr])  # log(1/r)\n",
        "    y = np.array([np.log(point[1]) for point in r_Nr])  # log(Nr)\n",
        "    D = np.polyfit(x, y, 1)[0]  # D = lim r -> 0 log(Nr)/log(1/r)\n",
        "    return D"
      ]
    },
    {
      "cell_type": "code",
      "execution_count": null,
      "metadata": {
        "id": "ivnwqOwAqZ1S"
      },
      "outputs": [],
      "source": [
        "import numpy as np\n",
        "import cv2\n",
        "# from FractalDimension import fractal_dimension\n",
        "\n",
        "#test data\n",
        "image = cv2.imread('serpesniki_blur.jpg', 0)\n",
        "\n",
        "fd = fractal_dimension(image)\n",
        "print(f\"Fractal dimension of the image: {fd}\")"
      ]
    },
    {
      "cell_type": "code",
      "execution_count": null,
      "metadata": {
        "id": "Ss89I9UVMFqq"
      },
      "outputs": [],
      "source": [
        "pip install FractalDimension"
      ]
    },
    {
      "cell_type": "code",
      "execution_count": null,
      "metadata": {
        "id": "JggYapxbMc9o"
      },
      "outputs": [],
      "source": [
        "\n",
        "\n",
        "#define data\n",
        "\n",
        "\n",
        "#find line of best fit\n",
        "a, b = np.polyfit(x, y, 1)\n",
        "\n",
        "#add points to plot\n",
        "plt.scatter(x, y, color='purple')\n",
        "\n",
        "#add line of best fit to plot\n",
        "plt.plot(x, a*x+b, color='steelblue', linestyle='--', linewidth=2)\n",
        "\n",
        "#add fitted regression equation to plot\n",
        "plt.text(1, 17, 'y = ' + '{:.2f}'.format(b) + ' + {:.2f}'.format(a) + 'x', size=14)\n"
      ]
    },
    {
      "cell_type": "code",
      "execution_count": null,
      "metadata": {
        "id": "hArJ8Wa1SjT2"
      },
      "outputs": [],
      "source": [
        "pip install scikit-learn"
      ]
    },
    {
      "cell_type": "code",
      "execution_count": null,
      "metadata": {
        "id": "YTfR_tpDUuKN"
      },
      "outputs": [],
      "source": [
        "import numpy as np\n",
        "import matplotlib.pyplot as plt  # To visualize\n",
        "import pandas as pd  # To read data\n",
        "from sklearn.linear_model import LinearRegression"
      ]
    },
    {
      "cell_type": "code",
      "execution_count": null,
      "metadata": {
        "id": "Esk_c_DYWbtH"
      },
      "outputs": [],
      "source": [
        "fields=['c1','c2']\n",
        "rows=[]\n",
        "for i in range(len(x)):\n",
        "  rows.append([x[i],y[i]])\n",
        "\n",
        "print(rows)"
      ]
    },
    {
      "cell_type": "code",
      "execution_count": null,
      "metadata": {
        "id": "ZSl7_gM5U84v"
      },
      "outputs": [],
      "source": [
        "# data = pd.read_csv('data.csv')  # load data set\n",
        "# X = data.iloc[:, 0].values.reshape(-1, 1)  # values converts it into a numpy array\n",
        "# Y = data.iloc[:, 1].values.reshape(-1, 1)  # -1 means that calculate the dimension of rows, but have 1 column\n",
        "# linear_regressor = LinearRegression()  # create object for the class\n",
        "# linear_regressor.fit(X, Y)  # perform linear regression\n",
        "# Y_pred = linear_regressor.predict(X)  # make predictions"
      ]
    },
    {
      "cell_type": "code",
      "execution_count": null,
      "metadata": {
        "id": "LOj7tAUBVKjG"
      },
      "outputs": [],
      "source": [
        "# import csv\n",
        "# with open('fractal.csv', 'w') as f:\n",
        "\n",
        "#     # Create a CSV writer object that will write to the file 'f'\n",
        "#     csv_writer = csv.writer(f)\n",
        "\n",
        "#     # Write the field names (column headers) to the first row of the CSV file\n",
        "#     csv_writer.writerow(fields)\n",
        "\n",
        "#     # Write all of the rows of data to the CSV file\n",
        "#     csv_writer.writerows(rows)"
      ]
    },
    {
      "cell_type": "code",
      "execution_count": 3,
      "metadata": {
        "id": "zqAZXHknXTTh"
      },
      "outputs": [],
      "source": [
        "# import csv\n",
        "# f=open(f_fractal.csv,'r')\n",
        "# for i,j in zip(x,y):\n",
        "#     f.write(str(i)+\",\"+str(j))\n",
        "# f.close()"
      ]
    },
    {
      "cell_type": "code",
      "execution_count": null,
      "metadata": {
        "id": "qJy9uhEWb3ER"
      },
      "outputs": [],
      "source": []
    },
    {
      "cell_type": "code",
      "execution_count": null,
      "metadata": {
        "id": "jW0xh033bQiy"
      },
      "outputs": [],
      "source": []
    }
  ]
}
